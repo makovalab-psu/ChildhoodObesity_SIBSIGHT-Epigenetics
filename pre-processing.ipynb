{
 "cells": [
  {
   "cell_type": "markdown",
   "metadata": {
    "id": "I2sTCbYnERS3"
   },
   "source": [
    "# Analyses of Methylseq Data in R (on sec server)"
   ]
  },
  {
   "cell_type": "markdown",
   "metadata": {
    "id": "CbUHkkUyERS5"
   },
   "source": [
    "Note : For easy installation, create a virtual environnement (eg with conda) with files in a system accessible by sec server (eg /galaxy/home/user/). Install the libraries in that environnement in Desmond server. and run it on sec. (Some libraries are broken right now because of an version conflict, but sec is being updated. Date : May 20th 2020)"
   ]
  },
  {
   "cell_type": "markdown",
   "metadata": {
    "id": "rnUZPRcKERS6"
   },
   "source": [
    "## Install packages "
   ]
  },
  {
   "cell_type": "code",
   "execution_count": null,
   "metadata": {
    "id": "HpDO1eFTERS6",
    "tags": []
   },
   "outputs": [],
   "source": [
    "if (!requireNamespace(\"BiocManager\", quietly = TRUE))\n",
    "    install.packages(\"BiocManager\")\n",
    "\n",
    "BiocManager::install(\"illuminaio\")\n",
    "BiocManager::install(\"IlluminaHumanMethylationEPICanno.ilm10b4.hg19\")\n",
    "BiocManager::install(\"FlowSorted.CordBlood.EPIC\")\n",
    "BiocManager::install(\"FlowSorted.Blood.EPIC\")  \n",
    "\n",
    "if (!requireNamespace(\"BiocManager\", quietly = TRUE))\n",
    "    install.packages(\"BiocManager\")\n",
    "\n",
    "BiocManager::install(\"IlluminaHumanMethylationEPICmanifest\")\n",
    "BiocManager::install(\"IlluminaHumanMethylation450kmanifest\")\n",
    "\n",
    "\n",
    "if (!requireNamespace(\"glmnet\", quietly = TRUE))\n",
    "    install.packages(\"glmnet\")\n"
   ]
  },
  {
   "cell_type": "code",
   "execution_count": null,
   "metadata": {
    "id": "GX1Oc4VAERS7"
   },
   "outputs": [],
   "source": [
    "if (!requireNamespace(\"readr\", quietly = TRUE))\n",
    "    install.packages(\"readr\")\n",
    "if (!requireNamespace(\"plyr\", quietly = TRUE))\n",
    "    install.packages(\"plyr\")\n",
    "if (!requireNamespace(\"dplyr\", quietly = TRUE))\n",
    "    install.packages(\"dplyr\")\n",
    "if (!requireNamespace(\"caret\", quietly = TRUE))\n",
    "    install.packages(\"caret\")\n",
    "if (!requireNamespace(\"ggplot2\", quietly = TRUE))\n",
    "    install.packages(\"ggplot2\")\n",
    "if (!requireNamespace(\"repr\", quietly = TRUE))\n",
    "    install.packages(\"repr\")\n",
    "\n",
    "if (!requireNamespace('tidyverse', quietly = TRUE))\n",
    "    install.packages(\"tidyverse\")\n",
    "\n",
    "if (!requireNamespace(\"BiocManager\", quietly = TRUE))\n",
    "    install.packages(\"BiocManager\")\n",
    "\n",
    "BiocManager::install(\"GenomeInfoDb\")\n",
    "\n",
    "install.packages(\"remotes\")\n",
    "\n",
    "if (!requireNamespace(\"BiocManager\", quietly = TRUE))\n",
    "    install.packages(\"BiocManager\")\n",
    "\n",
    "\n",
    "if (!requireNamespace(\"curl\", quietly = TRUE))\n",
    "    install.packages(\"curl\")\n",
    "\n",
    "\n",
    "BiocManager::install(\"curl\")\n",
    "\n",
    "\n",
    "BiocManager::install(\"minfi\")\n",
    "\n",
    "If libcurl is already installed, check that 'pkg-config' is in your\n",
    "PATH and PKG_CONFIG_PATH contains a libcurl.pc file. If pkg-config\n",
    "is unavailable you can set INCLUDE_DIR and LIB_DIR manually via:\n",
    "\n",
    "R CMD INSTALL --configure-vars='INCLUDE_DIR=... LIB_DIR=..."
   ]
  },
  {
   "cell_type": "markdown",
   "metadata": {
    "id": "xYf3lUweERS8"
   },
   "source": [
    "## In R \n",
    "### Load Libraries"
   ]
  },
  {
   "cell_type": "code",
   "execution_count": null,
   "metadata": {
    "id": "RvZmn7CLERS8"
   },
   "outputs": [],
   "source": [
    "\n",
    "library(\"illuminaio\")\n",
    "library(\"minfi\")\n",
    "library(\"minfiData\")\n",
    "library(\"plyr\")\n",
    "library(\"readr\")\n",
    "library(\"dplyr\")\n",
    "\n",
    "library(\"IlluminaHumanMethylationEPICmanifest\")\n",
    "library(\"IlluminaHumanMethylationEPICanno.ilm10b4.hg19\")\n",
    "library('IlluminaHumanMethylation450kmanifest')\n",
    "library(\"IlluminaHumanMethylation450kanno.ilmn12.hg19\")\n",
    "\n",
    "\n",
    "\n",
    "library(\"caret\")\n",
    "library(\"ggplot2\")\n",
    "library(\"repr\")\n",
    "library(\"glmnet\")\n",
    "library(\"GenomeInfoDb\")"
   ]
  },
  {
   "cell_type": "markdown",
   "metadata": {
    "id": "Ib6n0vGXERS8"
   },
   "source": [
    "### Load Data \n",
    "\n",
    "\n",
    "Minfi take a folder path in parameter for the import function. The folder must contain .idat files and the sample sheet containing the ID of samples, the corresponding file reference and phenotype. Since the original folder containing the idat files is not writable, I made symbolic links in a folder on my home directory so I can modify the sample sheet to export the data. "
   ]
  },
  {
   "cell_type": "code",
   "execution_count": null,
   "metadata": {
    "id": "KPSI9qGCERS9"
   },
   "outputs": [],
   "source": [
    "\n",
    "sheet <- read.metharray.sheet(\"/nfs/secure/scratch3/child_obesity/analysis/delphinel/data/\") #Read Sample Sheet\n",
    "targets <- read.metharray.exp(targets=sheet) # From the sample shit, import methylation array data\n",
    "\n",
    "sheetCB <- read.metharray.sheet(\"/nfs/secure/scratch3/child_obesity/analysis/delphinel/data/\")\n",
    "targetsCB <- read.metharray.exp(targets=sheetCB) # From the sample shit, import methylation array data\n",
    "targets450kCB =convertArray(targetsCB, outType = \"IlluminaHumanMethylation450k\",verbose = TRUE)\n"
   ]
  },
  {
   "cell_type": "markdown",
   "metadata": {
    "id": "OlAjMG7IERS9"
   },
   "source": [
    "Most of the functions available in Minfi package have been developped for Illumina450k, the previous generation of IlluminaEPIC. We therefore convert the data to Illumina450k data. I am not sure how this conversion is made, I think it changes the global light intensity of the signal."
   ]
  },
  {
   "cell_type": "code",
   "execution_count": null,
   "metadata": {
    "id": "_cWcpDCDERS9"
   },
   "outputs": [],
   "source": [
    "targets450k=convertArray(targets, outType = \"IlluminaHumanMethylation450k\",verbose = TRUE)\n"
   ]
  },
  {
   "cell_type": "markdown",
   "metadata": {
    "id": "pSDbmucaERS-"
   },
   "source": [
    "The following command returns the loci that failed detection (signal is an outlier compare to other loci). It is for information, the preprocessing function do it by itself."
   ]
  },
  {
   "cell_type": "code",
   "execution_count": null,
   "metadata": {
    "id": "bQl7giSIERS-"
   },
   "outputs": [],
   "source": [
    "failed_p=detectionP(targets450k, type = \"m+u\")\n"
   ]
  },
  {
   "cell_type": "markdown",
   "metadata": {
    "id": "9UAGM9zZERS-"
   },
   "source": [
    "Preprocessing of the data : Quantile normalisation, remove sexual chromosomes, remove bad samples,"
   ]
  },
  {
   "cell_type": "code",
   "execution_count": null,
   "metadata": {
    "id": "VSOAje5jERS-"
   },
   "outputs": [],
   "source": [
    "\n",
    "preprocessedCB = preprocessQuantile(targets450kCB, fixOutliers = TRUE, removeBadSamples = TRUE, badSampleCutoff = 10, quantileNormalize = TRUE, stratified = TRUE, mergeManifest = FALSE, verbose = TRUE)\n",
    "phenoData <- pData(preprocessedCB) "
   ]
  },
  {
   "cell_type": "code",
   "execution_count": null,
   "metadata": {
    "id": "keFS6cMLERS_",
    "outputId": "7dce05fd-c3ce-4cdf-c423-3a1d3d48198e"
   },
   "outputs": [
    {
     "ename": "ERROR",
     "evalue": "Error in preprocessQuantile(targets450k, fixOutliers = TRUE, removeBadSamples = TRUE, : could not find function \"preprocessQuantile\"\n",
     "output_type": "error",
     "traceback": [
      "Error in preprocessQuantile(targets450k, fixOutliers = TRUE, removeBadSamples = TRUE, : could not find function \"preprocessQuantile\"\nTraceback:\n"
     ]
    }
   ],
   "source": [
    "preprocessed = preprocessQuantile(targets450k, fixOutliers = TRUE, removeBadSamples = TRUE, badSampleCutoff = 10, quantileNormalize = TRUE, stratified = TRUE, mergeManifest = FALSE, verbose = TRUE)\n",
    "phenoData <- pData(preprocessed) # Extract phenotype data\n"
   ]
  },
  {
   "cell_type": "markdown",
   "metadata": {
    "id": "lqE1zbNHERTA"
   },
   "source": [
    "Addition of SNP infos (from an included database) and remove the position containing one."
   ]
  },
  {
   "cell_type": "code",
   "execution_count": null,
   "metadata": {
    "id": "V-eBr8qdERTA"
   },
   "outputs": [],
   "source": [
    "prepro_snp=addSnpInfo(preprocessed)\n",
    "gset=dropLociWithSnps(prepro_snp, snps=c(\"SBE\",\"CpG\"), maf=0)\n",
    "\n",
    "\n",
    "prepro_snpCB=addSnpInfo(preprocessedCB)\n",
    "gsetCB=dropLociWithSnps(prepro_snpCB, snps=c(\"SBE\",\"CpG\"), maf=0)\n"
   ]
  },
  {
   "cell_type": "markdown",
   "metadata": {
    "id": "KnRNCYXPERTA"
   },
   "source": [
    "Mapping the CpG sites to genome"
   ]
  },
  {
   "cell_type": "code",
   "execution_count": null,
   "metadata": {
    "id": "GixGHXjtERTB"
   },
   "outputs": [],
   "source": [
    "mapped=minfi::mapToGenome(gset)"
   ]
  },
  {
   "cell_type": "markdown",
   "metadata": {
    "id": "r4jTT4CrERTB"
   },
   "source": [
    "Transform data from signal of methylation and unmethylation (M and U) to Beta values : methylation ratio $$(M)\\over(M+U+100)$$"
   ]
  },
  {
   "cell_type": "code",
   "execution_count": null,
   "metadata": {
    "id": "OzbgJaRIERTB"
   },
   "outputs": [],
   "source": [
    "# noOutlierMapped=fixMethOutliers(mapped, K = -3, verbose = FALSE) #compensate outliers\n",
    "\n",
    "#ratios=minfi::ratioConvert(noOutlierMapped, what =\"both\", keepCN = TRUE) # convert methylation data into Beta values"
   ]
  },
  {
   "cell_type": "markdown",
   "metadata": {
    "id": "HSRA0WhnERTB"
   },
   "source": [
    "Collapsing adjacent CpG sites with the same methylation state into 1 region"
   ]
  },
  {
   "cell_type": "code",
   "execution_count": null,
   "metadata": {
    "id": "lbNsKG8pERTB"
   },
   "outputs": [],
   "source": [
    "collapsed=cpgCollapse(mapped, what=\"Beta\")"
   ]
  },
  {
   "cell_type": "markdown",
   "metadata": {
    "id": "zIldN2ksERTB"
   },
   "source": [
    "Extracting the position data and merging it to a matrix Containing the Beta values (proportion of methylations). This will be the matrix used for further analyses. We do this for both all positions and merge positions"
   ]
  },
  {
   "cell_type": "code",
   "execution_count": null,
   "metadata": {
    "id": "rvANn6BtERTC"
   },
   "outputs": [],
   "source": [
    "workBeta=getBeta(mapped)\n",
    "colnames(workBeta) #samples\n",
    "rownames(workBeta) #positions\n",
    "\n",
    "\n",
    "workcollapsed=getBeta(collapsed$object)\n",
    "rownames(workcollapsed)=collapsed$blockInfo$indexes\n",
    "workcollapsed=as.data.frame(workcollapsed)"
   ]
  },
  {
   "cell_type": "markdown",
   "metadata": {
    "id": "zHpg4xlfERTC"
   },
   "source": [
    "Addition of the standard deviation(SD) of the methylation ratio of a site across samples in a new column. This will be used when we want to select only most variable positions."
   ]
  },
  {
   "cell_type": "code",
   "execution_count": null,
   "metadata": {
    "id": "3BMxMi1uERTD"
   },
   "outputs": [],
   "source": [
    "annots=getAnnotation(mapped, what = \"everything\", lociNames = NULL, orderByLocation = FALSE, dropNonMapping = FALSE)\n",
    "names(annots)"
   ]
  },
  {
   "cell_type": "code",
   "execution_count": null,
   "metadata": {
    "id": "GYP8hLFpERTD"
   },
   "outputs": [],
   "source": [
    "typeof(annots)\n",
    "typeof(workBeta)"
   ]
  },
  {
   "cell_type": "code",
   "execution_count": null,
   "metadata": {
    "id": "VpJo_XcvERTD"
   },
   "outputs": [],
   "source": [
    "annots = as.data.frame(annots)\n",
    "workBeta = as.data.frame(workBeta)\n",
    "\n",
    "mergedBeta=merge(annots, workBeta, by=0, all=TRUE)"
   ]
  },
  {
   "cell_type": "code",
   "execution_count": null,
   "metadata": {
    "id": "0t3M1MufERTD"
   },
   "outputs": [],
   "source": [
    "\n",
    "save(sortedCol, list = \"sortedCol\", file = \"sortedCol.Rdat\")\n",
    "\n",
    "\n",
    "save(c, list = \"mergedBeta\", file = \"Beta_placenta.Rdat\")"
   ]
  },
  {
   "cell_type": "code",
   "execution_count": null,
   "metadata": {
    "id": "ol1MZHOmERTD"
   },
   "outputs": [],
   "source": [
    "write.table(mergedBeta,\"Beta_placenta.Rdat.csv\", row.names = TRUE , col.names= colnames(mergedBeta), sep=\"\\t\")\n"
   ]
  },
  {
   "cell_type": "markdown",
   "metadata": {
    "id": "usW-4dByERTE"
   },
   "source": [
    "## Phenotype association Analyses"
   ]
  },
  {
   "cell_type": "markdown",
   "metadata": {
    "id": "pUaLQlejERTE"
   },
   "source": [
    "### Prepare data"
   ]
  },
  {
   "cell_type": "markdown",
   "metadata": {
    "id": "mJtvsnfoERTE"
   },
   "source": [
    "Get phenotype data from sample sheet"
   ]
  },
  {
   "cell_type": "code",
   "execution_count": null,
   "metadata": {
    "id": "Tz27fE3EERTE"
   },
   "outputs": [],
   "source": [
    "testpd=read.csv(\"Methylseq_sample_sheet_diff_cont_bmi.csv\")\n",
    "cols=colnames(testpd)\n",
    "\n",
    "\n",
    "cols\n",
    "[1] \"Sample_Name\"      \"Sample_Well\"      \"Sample_Plate\"     \"Sample_Group\"\n",
    "[5] \"Pool_ID\"          \"Sentrix_ID\"       \"Sentrix_Position\"\n",
    "\n",
    "\n",
    "testpd$Sample_Group\n",
    " [1] 4.208000 6.426000 1.282000 3.495000 4.362000 3.274000 2.157000 2.562000\n",
    " [9] 0.553000 4.364000 2.625000 1.353000 3.257000 3.293000 4.863000 0.148000\n",
    "[17] 2.499000 2.063000 3.794000 1.138000 2.222000 4.021000 0.351000 2.375000\n",
    "[25] 3.888000 2.350000 0.376000 4.003000 7.131000 1.845000 3.222000 5.124000\n",
    "[33] 3.826000 4.112000 1.967000 4.015000 5.078000 5.410000 5.632000 2.765000\n",
    "[41] 4.410000 2.683000 3.357000 3.607000 2.611831 5.156000 5.827000 1.489000\n",
    "\n",
    "continuous_pheno=testpd$Sample_Group"
   ]
  },
  {
   "cell_type": "markdown",
   "metadata": {
    "id": "JYg4rwGqERTE"
   },
   "source": [
    "Run DMP finder of minfi to detect differentially methylated positions"
   ]
  },
  {
   "cell_type": "code",
   "execution_count": null,
   "metadata": {
    "id": "eR4fxjcgERTE"
   },
   "outputs": [],
   "source": [
    "compara=dmpFinder(getBeta(collapsed$object), phenoData$Sample_Group , type =\"categorical\", qCutoff = 1, shrinkVar = FALSE)\n",
    "compara_top=dmpFinder(comp_x, phenoData$Sample_Group , type =\"categorical\", qCutoff = 1, shrinkVar = FALSE)\n",
    "\n",
    "compara_cont=dmpFinder(getBeta(collapsed$object), continuous_pheno , type =\"continuous\", qCutoff = 1, shrinkVar = FALSE)\n",
    "\n",
    "\n",
    "designmatrix=model.matrix(~ continuous_pheno)\n",
    "dmrs_col <- bumphunter(collapsed$object, design = designmatrix ,cutoff = 0.2, B=0, type=\"Beta\")\n",
    "dmrs=bumphunter(mapped,design = designmatrix ,cutoff = 0.2, B=0, type=\"Beta\")\n",
    "\n"
   ]
  },
  {
   "cell_type": "code",
   "execution_count": null,
   "metadata": {
    "id": "jkHxxJWVERTF"
   },
   "outputs": [],
   "source": [
    "annotation <- getAnnotation(mapped)\n",
    "names(annotation)\n",
    "\n",
    "annots=getAnnotation(mapped, what = \"everything\", lociNames = NULL, orderByLocation = FALSE, dropNonMapping = FALSE)\n",
    "\n",
    "allpos=array()\n",
    "for(i in rownames(compara_cont)){\n",
    "allpos=append(allpos,collapsed$blockInfo$indexes[i])\n",
    "}\n",
    "\n"
   ]
  },
  {
   "cell_type": "code",
   "execution_count": null,
   "metadata": {
    "id": "Ng9k0RaiERTF"
   },
   "outputs": [],
   "source": [
    "colcol=append(append('Row',append(\"Index\",mapped$Sample_Name)),\"SD\")\n",
    "colnames(sortedCol)=colcol\n",
    "save(sortedCol, list = \"sortedCol\", file = \"sortedCol.Rdat\")\n",
    "\n",
    "namcol=append(\"Row.names\",mapped$Sample_Name)\n",
    "namcol=append(namcol,\"SD\")\n",
    "colnames(sortedBeta)=namcol\n",
    "save(c, list = \"sortedBeta\", file = \"sortedBeta.Rdat\")"
   ]
  },
  {
   "cell_type": "code",
   "execution_count": null,
   "metadata": {
    "collapsed": true,
    "id": "KwedFJOwERTF",
    "jupyter": {
     "outputs_hidden": true
    },
    "outputId": "ed21ec2c-7db8-490a-e4a9-4beca2f85a46",
    "tags": []
   },
   "outputs": [
    {
     "name": "stderr",
     "output_type": "stream",
     "text": [
      "Warning message in readChar(con, 5L, useBytes = TRUE):\n",
      "“cannot open compressed file 'sortedCol.Rdat', probable reason 'No such file or directory'”\n"
     ]
    },
    {
     "ename": "ERROR",
     "evalue": "Error in readChar(con, 5L, useBytes = TRUE): cannot open the connection\n",
     "output_type": "error",
     "traceback": [
      "Error in readChar(con, 5L, useBytes = TRUE): cannot open the connection\nTraceback:\n",
      "1. load(\"sortedCol.Rdat\")",
      "2. readChar(con, 5L, useBytes = TRUE)"
     ]
    }
   ],
   "source": [
    "load(\"sortedCol.Rdat\")\n",
    "load(\"sortedBeta.Rdat\")\n",
    "\n",
    "\n",
    "source(\"sortedCol.Rdat\")\n",
    "source(\"sortedBeta.Rdat\")\n"
   ]
  },
  {
   "cell_type": "code",
   "execution_count": null,
   "metadata": {
    "id": "y8vaY1WXERTF"
   },
   "outputs": [],
   "source": [
    "bmi_2yo=read.csv(\"Methylseq_2yo_bmi.csv\", header=TRUE, skip=7)"
   ]
  },
  {
   "cell_type": "code",
   "execution_count": null,
   "metadata": {
    "id": "9IRR05sTERTG"
   },
   "outputs": [],
   "source": [
    "phenoData <- pData(mapped)\n",
    "weightgain=phenoData$Sample_Group"
   ]
  },
  {
   "cell_type": "markdown",
   "metadata": {
    "id": "tLtmx_qZERTG"
   },
   "source": [
    "### Run mds"
   ]
  },
  {
   "cell_type": "code",
   "execution_count": null,
   "metadata": {
    "id": "ZBmDRKAVERTG",
    "outputId": "407775d8-99d4-4b30-a4dc-af1f67a1bac3"
   },
   "outputs": [
    {
     "ename": "ERROR",
     "evalue": "Error in eval(expr, envir, enclos): object 'bmi_2yo' not found\n",
     "output_type": "error",
     "traceback": [
      "Error in eval(expr, envir, enclos): object 'bmi_2yo' not found\nTraceback:\n"
     ]
    }
   ],
   "source": [
    "weightgain=bmi_2yo$Sample_Group\n",
    "color=rep(NA, length=length(weightgain))\n",
    "color[which(weightgain==\"avg\")] = \"red\"\n",
    "color[which(weightgain==\"high\")] = \"blue\"\n"
   ]
  },
  {
   "cell_type": "code",
   "execution_count": null,
   "metadata": {
    "id": "VweRwRb-ERTG"
   },
   "outputs": [],
   "source": [
    "for(i in seq(200, 20001, 100)){\n",
    "topvar=sortedBeta[1:i,]\n",
    "topcol=sortedCol[1:i,]\n",
    "\n",
    "dmsmatCol=t(topcol[,-1:-2][,-\"SD\"])\n",
    "dcol <- dist(dmsmatCol) # euclidean distances between the rows\n",
    "fitcol <- cmdscale(dcol,eig=TRUE, k=2) # k is the number of dim\n",
    "xcol <- fitcol$points[,1]\n",
    "ycol <- fitcol$points[,2]\n",
    "jpeg(paste('/nfs/secure/scratch3/child_obesity/analysis/delphinel/mds_2yo_bmi_',as.character(i),'_collapsed.jpg',sep=''))\n",
    "plot(xcol, ycol, xlab=\"Coordinate 1\", ylab=\"Coordinate 2\",main=\"MDS\", type=\"n\",col=color)\n",
    "text(xcol, ycol, labels = row.names(dmsmatCol), cex=.7,col=color)\n",
    "legend(-0.017,-0.008,unique(weightgain),unique(color),pch=1)\n",
    "dev.off()\n",
    "\n",
    "\n",
    "dmsmat=t(topvar[,c(-1,-length(colnames(topvar)))])\n",
    "d <- dist(dmsmat)\n",
    "fit <- cmdscale(d,eig=TRUE, k=2) \n",
    "x <- fit$points[,1]\n",
    "y <- fit$points[,2]\n",
    "\n",
    "jpeg(paste('/nfs/secure/scratch3/child_obesity/analysis/delphinel/mds_2yo_bmi_',as.character(i),'.jpg',sep=''))\n",
    "plot(x, y, xlab=\"Coordinate 1\", ylab=\"Coordinate 2\",main=\"MDS\", type=\"n\",col=color)\n",
    "text(x, y, labels = row.names(dmsmat), cex=.7,col=color)\n",
    "legend(-0.02,-0.010,unique(weightgain),unique(color),pch=1)\n",
    "dev.off()\n",
    "\n",
    "}"
   ]
  },
  {
   "cell_type": "code",
   "execution_count": null,
   "metadata": {
    "id": "L0SVX3uuERTH"
   },
   "outputs": [],
   "source": [
    "library(\"dplyr\")\n",
    "library(\"tibble\")\n",
    "library(\"ggplot2\")\n",
    "\n",
    "dmsmatCol=t(sortedCol[,-1:-2][,-\"SD\"])\n",
    "dcol <- dist(dmsmatCol) # euclidean distances between the rows\n",
    "\n",
    "MDSBMI = cmdscale(dcol, eig = TRUE)\n",
    "plotbar = function(res, m = 9) {\n",
    "  tibble(eig = res$eig[seq_len(m)], k = seq(along = eig)) %>% ggplot(aes(x = k, y = eig)) + scale_x_discrete(\"k\", limits = seq_len(m)) + theme_minimal() + geom_bar(stat=\"identity\", width=0.5, color=\"orange\", fill=\"pink\")\n",
    "}\n",
    "\n",
    "for(i in seq(5, 51, 5))\n",
    "{\n",
    "file=paste('/nfs/secure/scratch3/child_obesity/analysis/delphinel/mds_2yo_bmi_m',as.character(i),'_barplot.jpg',sep='')\n",
    "print(file)\n",
    "    \n",
    "jpeg(file)\n",
    "plotbar(MDSBMI, m = i)\n",
    "dev.off()\n",
    "    \n",
    "}"
   ]
  },
  {
   "cell_type": "code",
   "execution_count": null,
   "metadata": {
    "id": "hqamMC7zERTH"
   },
   "outputs": [],
   "source": [
    "MDSeur = tibble( PCo1 = MDSBMI$points[, 1], PCo2 = MDSBMI$points[, 2], labs = rownames(MDSBMI$points))\n",
    "\n",
    "i=2\n",
    "file=paste('/nfs/secure/scratch3/child_obesity/analysis/delphinel/own_mds_2yo_bmi_m',as.character(i),'.jpg',sep='')\n",
    "\n",
    "\n",
    "jpeg(file)\n",
    "ggplot(MDSeur, aes(x = PCo1, y = PCo2, label = labs)) + geom_point(color = \"red\") + xlim(-100, 100) + ylim(-1150, 1150) + coord_fixed() + geom_text(size = 4, hjust = 0.3, vjust = -0.5)\n",
    "dev.off()\n",
    "\n"
   ]
  },
  {
   "cell_type": "code",
   "execution_count": null,
   "metadata": {
    "id": "zHp0bOi-ERTH"
   },
   "outputs": [],
   "source": [
    "MDSeur = tibble( PCo1 = MDSBMI$points[, 1], PCo2 = MDSBMI$points[, 2], labs = rownames(MDSBMI$points))\n",
    "\n",
    "i=2\n",
    "file=paste('/nfs/secure/scratch3/child_obesity/analysis/delphinel/own_mds_2yo_bmi_m',as.character(i),'.jpg',sep='')\n",
    "\n",
    "\n",
    "jpeg(file)\n",
    "ggplot(MDSeur, aes(x = PCo1, y = PCo2, label = labs)) + geom_point(color = \"red\") + xlim(-100, 100) + ylim(-100, 100) + coord_fixed() + geom_text(size = 4, hjust = 0.3, vjust = -0.5)\n",
    "dev.off()\n",
    "\n"
   ]
  },
  {
   "cell_type": "code",
   "execution_count": null,
   "metadata": {
    "id": "xrG0BoliERTI"
   },
   "outputs": [],
   "source": [
    "bmi_perc=read.csv(\"Methylseq_perc_bmi.csv\", header=TRUE, skip=7)\n",
    "weightgain=bmi_perc$Sample_Group\n",
    "color=rep(NA, length=length(weightgain))\n",
    "color[which(weightgain==\"avg\")] = \"red\"\n",
    "color[which(weightgain==\"high\")] = \"blue\"\n"
   ]
  },
  {
   "cell_type": "code",
   "execution_count": null,
   "metadata": {
    "id": "2JY3J8y9ERTI"
   },
   "outputs": [],
   "source": [
    "for(i in seq(200, 10001, 100)){\n",
    "topvar=sortedBeta[1:i,]\n",
    "topcol=sortedCol[1:i,]\n",
    "\n",
    "dmsmatCol=t(topcol[,-1:-2][,-\"SD\"])\n",
    "dcol <- dist(dmsmatCol) # euclidean distances between the rows\n",
    "fitcol <- cmdscale(dcol,eig=TRUE, k=2) # k is the number of dim\n",
    "xcol <- fitcol$points[,1]\n",
    "ycol <- fitcol$points[,2]\n",
    "jpeg(paste('/nfs/secure/scratch3/child_obesity/analysis/delphinel/mds_perc_bmi_',as.character(i),'_collapsed.jpg',sep=''))\n",
    "plot(xcol, ycol, xlab=\"Coordinate 1\", ylab=\"Coordinate 2\",main=\"MDS\", type=\"n\",col=color)\n",
    "text(xcol, ycol, labels = row.names(dmsmatCol), cex=.7,col=color)\n",
    "legend(-0.017,-0.008,unique(weightgain),unique(color),pch=1)\n",
    "dev.off()\n",
    "\n",
    "\n",
    "dmsmat=t(topvar[,c(-1,-length(colnames(topvar)))])\n",
    "d <- dist(dmsmat)\n",
    "fit <- cmdscale(d,eig=TRUE, k=2) \n",
    "x <- fit$points[,1]\n",
    "y <- fit$points[,2]\n",
    "jpeg(paste('/nfs/secure/scratch3/child_obesity/analysis/delphinel/mds_perc_bmi_',as.character(i),'.jpg',sep=''))\n",
    "plot(x, y, xlab=\"Coordinate 1\", ylab=\"Coordinate 2\",main=\"MDS\", type=\"n\",col=color)\n",
    "text(x, y, labels = row.names(dmsmat), cex=.7,col=color)\n",
    "legend(-0.02,-0.010,unique(weightgain),unique(color),pch=1)\n",
    "dev.off()\n",
    "\n",
    "}"
   ]
  },
  {
   "cell_type": "markdown",
   "metadata": {
    "id": "AtE3_LMzERTI"
   },
   "source": [
    "### GLMnet"
   ]
  },
  {
   "cell_type": "code",
   "execution_count": null,
   "metadata": {
    "id": "8jOy7XaGERTJ"
   },
   "outputs": [],
   "source": [
    "dmsmatCol=t(sortedCol[,-1:-2][,-\"SD\"])\n"
   ]
  },
  {
   "cell_type": "code",
   "execution_count": null,
   "metadata": {
    "id": "n1WdAWmuERTJ"
   },
   "outputs": [],
   "source": [
    "glmnet(x, y, family = \"binomial\", weights, offset = NULL, alpha = 1,\n",
    "  nlambda = 100, lambda.min.ratio = ifelse(nobs < nvars, 0.01, 1e-04),\n",
    "  lambda = NULL, standardize = TRUE, intercept = TRUE,\n",
    "  thresh = 1e-07, dfmax = nvars + 1, pmax = min(dfmax * 2 + 20,\n",
    "  nvars), exclude, penalty.factor = rep(1, nvars), lower.limits = -Inf,\n",
    "  upper.limits = Inf, maxit = 1e+05, type.gaussian = ifelse(nvars <\n",
    "  500, \"covariance\", \"naive\"), type.logistic = c(\"Newton\",\n",
    "  \"modified.Newton\"), standardize.response = FALSE,\n",
    "  type.multinomial = c(\"ungrouped\", \"grouped\"), relax = FALSE,\n",
    "  trace.it = 0, ...)"
   ]
  }
 ],
 "metadata": {
  "colab": {
   "name": "R_analyses.ipynb",
   "provenance": []
  },
  "kernelspec": {
   "display_name": "R",
   "language": "R",
   "name": "ir"
  },
  "language_info": {
   "codemirror_mode": "r",
   "file_extension": ".r",
   "mimetype": "text/x-r-source",
   "name": "R",
   "pygments_lexer": "r",
   "version": "4.1.3"
  }
 },
 "nbformat": 4,
 "nbformat_minor": 4
}
